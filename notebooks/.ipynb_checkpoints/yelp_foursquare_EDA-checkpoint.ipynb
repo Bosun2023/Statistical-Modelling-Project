{
 "cells": [
  {
   "cell_type": "code",
   "execution_count": null,
   "metadata": {},
   "outputs": [],
   "source": [
    "# imports\n",
    "import os\n",
    "import requests\n",
    "import pandas as pd\n",
    "import json"
   ]
  },
  {
   "cell_type": "markdown",
   "metadata": {},
   "source": [
    "# Foursquare"
   ]
  },
  {
   "cell_type": "markdown",
   "metadata": {},
   "source": [
    "Send a request to Foursquare with a small radius (1000m) for all the bike stations in your city of choice. "
   ]
  },
  {
   "cell_type": "code",
   "execution_count": null,
   "metadata": {},
   "outputs": [],
   "source": [
    "# Load API key \n",
    "FOURSQUARE_API_KEY = os.getenv('test_project2')\n",
    "\n",
    "def get_venues_fs(latitude, longitude, radius, categories):\n",
    "  \n",
    "  url = 'https://api.foursquare.com/v3/places/search'\n",
    "\n",
    "  headers = {\n",
    "    'accept': 'application/json',\n",
    "    'Authorization': FOURSQUARE_API_KEY    \n",
    "  }\n",
    "\n",
    "  params = {\n",
    "    'll': f'{latitude},{longitude}',\n",
    "    'radius': radius,\n",
    "    'limit': 50, \n",
    "    'categories' : ','.join(categories)\n",
    "  }\n",
    "  \n",
    "  response = requests.get(url, \n",
    "                       params=params,\n",
    "                       headers=headers)\n",
    "\n",
    "  return response.json()"
   ]
  },
  {
   "cell_type": "markdown",
   "metadata": {},
   "source": [
    "Parse through the response to get the POI (such as restaurants, bars, etc) details you want (ratings, name, location, etc)"
   ]
  },
  {
   "cell_type": "code",
   "execution_count": null,
   "metadata": {},
   "outputs": [],
   "source": [
    "# Define the list of categories (e.g., '16032' category ID for Parks)\n",
    "categories = ['16032']\n",
    "\n",
    "# Initialize a list to store venue data\n",
    "venue_list = []\n",
    "\n",
    "# Iterate through the DataFrame rows\n",
    "for index, row in bikes_df.iterrows():\n",
    "    lat = row['lat']\n",
    "    lon = row['lon']\n",
    "\n",
    "    # Call API using the provided latitude, longitude, radius, and categories\n",
    "    data = get_venues_fs(lat, lon, 1500, categories)\n",
    "\n",
    "    # Append the number of venues retrieved to the venue_list\n",
    "    venue_list.append({\n",
    "        'lat': lat,\n",
    "        'lon': lon,\n",
    "        'fs_parks': len(data['results'])\n",
    "    })"
   ]
  },
  {
   "cell_type": "markdown",
   "metadata": {},
   "source": [
    "Put your parsed results into a DataFrame"
   ]
  },
  {
   "cell_type": "code",
   "execution_count": null,
   "metadata": {},
   "outputs": [],
   "source": [
    "# Create a DataFrame from the venue data list\n",
    "foursquare_parks_df = pd.DataFrame(venue_list)\n",
    "\n",
    "foursquare_parks_df.to_csv('foursquare_parks_df.csv')\n",
    "\n",
    "# Display the resulting DataFrame\n",
    "print(foursquare_parks_df.head(40))"
   ]
  },
  {
   "cell_type": "markdown",
   "metadata": {},
   "source": [
    "# Yelp"
   ]
  },
  {
   "cell_type": "markdown",
   "metadata": {},
   "source": [
    "Send a request to Yelp with a small radius (1000m) for all the bike stations in your city of choice. "
   ]
  },
  {
   "cell_type": "code",
   "execution_count": null,
   "metadata": {},
   "outputs": [],
   "source": [
    "# Load API key\n",
    "YELP_API_KEY = os.getenv('Yelp_key')\n",
    "\n",
    "\n",
    "def get_parks_yelp(latitude, longitude, radius):\n",
    "    url = 'https://api.yelp.com/v3/businesses/search'\n",
    "\n",
    "    headers = {\n",
    "        'Authorization': f'Bearer {YELP_API_KEY}'\n",
    "    }\n",
    "\n",
    "    params = {\n",
    "        'latitude': lat,\n",
    "        'longitude': lon,\n",
    "        'radius': radius,\n",
    "        'categories': 'parks', \n",
    "        'limit': 50  # Limit the number of results\n",
    "    }\n",
    "\n",
    "    response = requests.get(url, headers=headers, params=params)\n",
    "    \n",
    "    return response.json()\n"
   ]
  },
  {
   "cell_type": "markdown",
   "metadata": {},
   "source": [
    "Parse through the response to get the POI (such as restaurants, bars, etc) details you want (ratings, name, location, etc)"
   ]
  },
  {
   "cell_type": "code",
   "execution_count": null,
   "metadata": {},
   "outputs": [],
   "source": [
    "# Create an empty list to store Yelp venue data\n",
    "yelp_venue_data = []\n",
    "\n",
    "# Assuming bikes_df is defined as before\n",
    "for index, row in bikes_df.head(500).iterrows():\n",
    "    lat = row['lat']\n",
    "    lon = row['lon']\n",
    "\n",
    "    # Call Yelp API for parks using the provided latitude, longitude, and radius\n",
    "    data = get_parks_yelp(lat, lon, 1500)\n",
    "    \n",
    "    # Print the data dictionary to inspect its structure\n",
    "    print(data)\n",
    "    \n",
    "    # Append park venue count and location information to the yelp_venue_data list\n",
    "    yelp_venue_data.append({'lat': lat, 'lon': lon, 'yelp_parks': len(data['businesses'])})\n"
   ]
  },
  {
   "cell_type": "markdown",
   "metadata": {},
   "source": [
    "Put your parsed results into a DataFrame"
   ]
  },
  {
   "cell_type": "code",
   "execution_count": null,
   "metadata": {},
   "outputs": [],
   "source": [
    "# Create a DataFrame from the yelp_venue_data list\n",
    "yelp_parks_df = pd.DataFrame(yelp_venue_data)\n",
    "\n",
    "# Display the yelp_venue_df DataFrame\n",
    "print(yelp_parks_df.head(40))\n",
    "\n",
    "#Safe yelp_parks_df as a csv file\n",
    "yelp_parks_df.to_csv('yelp_parks_df.csv')"
   ]
  },
  {
   "cell_type": "code",
   "execution_count": null,
   "metadata": {},
   "outputs": [],
   "source": [
    "# Merge Foursquare and Yelp data as venue DataFrame\n",
    "Venue_df = foursquare_parks_df.merge(yelp_parks_df, on=['lat','lon'])\n",
    "venue_df.head(10)"
   ]
  },
  {
   "cell_type": "markdown",
   "metadata": {},
   "source": []
  },
  {
   "cell_type": "markdown",
   "metadata": {},
   "source": [
    "# Comparing Results"
   ]
  },
  {
   "cell_type": "markdown",
   "metadata": {},
   "source": [
    "Which API provided you with more complete data? Provide an explanation. "
   ]
  },
  {
   "cell_type": "code",
   "execution_count": null,
   "metadata": {},
   "outputs": [],
   "source": [
    "# Calculate the average park counts from Foursquare and Yelp\n",
    "average_fs_parks = venue_df['fs_parks'].mean()\n",
    "average_yelp_parks = venue_df['yelp_parks'].mean()\n",
    "\n",
    "# Compare the average park counts\n",
    "if average_fs_parks > average_yelp_parks:\n",
    "    better_api = 'Foursquare'\n",
    "else:\n",
    "    better_api = 'Yelp'\n",
    "\n",
    "print(f\"The API with better coverage in terms of average park counts is {better_api}.\")\n",
    "\n",
    "# Sum the counts of Foursquare parks and Yelp parks for each API\n",
    "total_fs_parks = venue_df['fs_parks'].sum()\n",
    "total_yelp_parks = venue_df['yelp_parks'].sum()\n",
    "\n",
    "# Compare the total counts and determine which API has better coverage\n",
    "if total_fs_parks > total_yelp_parks:\n",
    "    better_coverage_api = 'Foursquare'\n",
    "else:\n",
    "    better_coverage_api = 'Yelp'\n",
    "\n",
    "print(f\"The API with better coverage in terms of parks is: {better_coverage_api}\")\n"
   ]
  },
  {
   "cell_type": "markdown",
   "metadata": {},
   "source": [
    "Foursquare has better coverage both in terms of average park counts and total park counts. This is determined by comparing the calculated values for Foursquare and Yelp and making decisions based on these comparisons."
   ]
  },
  {
   "cell_type": "markdown",
   "metadata": {},
   "source": []
  },
  {
   "cell_type": "markdown",
   "metadata": {},
   "source": [
    "Get the top 10 restaurants according to their rating"
   ]
  },
  {
   "cell_type": "code",
   "execution_count": null,
   "metadata": {},
   "outputs": [],
   "source": [
    "# Load Yelp API key\n",
    "YELP_API_KEY = os.getenv('Yelp_key')\n",
    "\n",
    "# Define the API endpoint for business search\n",
    "url = 'https://api.yelp.com/v3/businesses/search'\n",
    "\n",
    "# Define parameters for the request\n",
    "params = {\n",
    "    'latitude': lat,  # Use the latitude of the bike station\n",
    "    'longitude': lon, # Use the longitude of the bike station\n",
    "    'radius': 1500,    # Set the search radius\n",
    "    'categories': 'restaurants',  # Limit to restaurants\n",
    "    'limit': 10,       # Get top 10 restaurants\n",
    "    'sort_by': 'rating'  # Sort by rating\n",
    "}\n",
    "\n",
    "# Set the authorization header\n",
    "headers = {\n",
    "    'Authorization': f'Bearer {YELP_API_KEY}'\n",
    "}\n",
    "\n",
    "# Make the API request\n",
    "response = requests.get(url, headers=headers, params=params)\n",
    "data = response.json()\n",
    "\n",
    "# Display the top 10 restaurants\n",
    "top_restaurants = data['businesses']\n",
    "for idx, restaurant in enumerate(top_restaurants, start=1):\n",
    "    print(f\"{idx}. {restaurant['name']} - Rating: {restaurant['rating']}\")"
   ]
  },
  {
   "cell_type": "markdown",
   "metadata": {},
   "source": [
    "Output:\n",
    "1. Good Vibes Kitchen - Rating: 5.0\n",
    "2. Ballissimo Loukoumades Bar - Rating: 5.0\n",
    "3. The MoMo House - Rating: 5.0\n",
    "4. Galata Restaurant - Rating: 5.0\n",
    "5. Papyrus - Rating: 5.0\n",
    "6. Trattoria Di Parma - Rating: 5.0\n",
    "7. Bancan Kitchen - Rating: 4.5\n",
    "8. Hanamaru - Rating: 4.5\n",
    "9. Momo Hut & Gardens - Rating: 4.5\n",
    "10. Trinacria Espresso - Rating: 4.5"
   ]
  }
 ],
 "metadata": {
  "kernelspec": {
   "display_name": "Python 3 (ipykernel)",
   "language": "python",
   "name": "python3"
  },
  "language_info": {
   "codemirror_mode": {
    "name": "ipython",
    "version": 3
   },
   "file_extension": ".py",
   "mimetype": "text/x-python",
   "name": "python",
   "nbconvert_exporter": "python",
   "pygments_lexer": "ipython3",
   "version": "3.11.4"
  }
 },
 "nbformat": 4,
 "nbformat_minor": 4
}
