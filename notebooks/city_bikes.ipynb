{
 "cells": [
  {
   "cell_type": "markdown",
   "metadata": {},
   "source": [
    "# CityBikes"
   ]
  },
  {
   "cell_type": "markdown",
   "metadata": {},
   "source": [
    "Send a request to CityBikes for the city of your choice. "
   ]
  },
  {
   "cell_type": "code",
   "execution_count": 1,
   "metadata": {},
   "outputs": [],
   "source": [
    "import os\n",
    "import requests\n",
    "import pandas as pd\n",
    "\n",
    "api_key = os.getenv('test_project')  \n",
    "\n",
    "# Get networks\n",
    "networks_url = 'https://api.citybik.es/v2/networks'\n",
    "networks_response = requests.get(networks_url, {'apiKey': api_key})\n",
    "\n",
    "# Filter networks\n",
    "networks = networks_response.json()['networks']\n",
    "networks = [{k: v for k, v in network.items() if k in ['id', 'name']}\n",
    "            for network in networks]\n",
    "            \n",
    "# Get Toronto network          \n",
    "city_network = next(n for n in networks if n['name'] == 'Bike Share Toronto')\n",
    "city_id = city_network['id']\n",
    "\n",
    "# Get Toronto stations\n",
    "stations_url = f'https://api.citybik.es/v2/networks/{city_id}'\n",
    "stations_response = requests.get(stations_url, {'apiKey': api_key})\n",
    "stations = stations_response.json()['network']['stations']"
   ]
  },
  {
   "cell_type": "markdown",
   "metadata": {},
   "source": [
    "Parse through the response to get the details you want for the bike stations in that city (latitude, longitude, number of bikes). "
   ]
  },
  {
   "cell_type": "code",
   "execution_count": 6,
   "metadata": {},
   "outputs": [],
   "source": [
    "station_data = []\n",
    "for s in stations:\n",
    "  station_data.append({\n",
    "    'id': s['id'],\n",
    "    'name': s['name'],\n",
    "    'lat': s['latitude'],\n",
    "    'lon': s['longitude'],    \n",
    "    'bikes': s['empty_slots']\n",
    "  })\n",
    "  "
   ]
  },
  {
   "cell_type": "markdown",
   "metadata": {},
   "source": [
    "Put your parsed results into a DataFrame."
   ]
  },
  {
   "cell_type": "code",
   "execution_count": null,
   "metadata": {},
   "outputs": [],
   "source": [
    "# Parse into dataframe\n",
    "bikes_df = pd.DataFrame(station_data) \n",
    "\n",
    "# Credit source\n",
    "print(\"Data provided by CityBikes API: https://citybik.es\") \n",
    "print(bikes_df.head())"
   ]
  },
  {
   "cell_type": "code",
   "execution_count": null,
   "metadata": {},
   "outputs": [],
   "source": [
    "bikes_df.to_csv('bikes_df.csv')"
   ]
  }
 ],
 "metadata": {
  "kernelspec": {
   "display_name": "Python 3 (ipykernel)",
   "language": "python",
   "name": "python3"
  },
  "language_info": {
   "codemirror_mode": {
    "name": "ipython",
    "version": 3
   },
   "file_extension": ".py",
   "mimetype": "text/x-python",
   "name": "python",
   "nbconvert_exporter": "python",
   "pygments_lexer": "ipython3",
   "version": "3.11.4"
  }
 },
 "nbformat": 4,
 "nbformat_minor": 4
}
