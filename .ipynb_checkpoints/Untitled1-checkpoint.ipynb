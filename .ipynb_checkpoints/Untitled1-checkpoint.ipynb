{
 "cells": [
  {
   "cell_type": "code",
   "execution_count": 23,
   "id": "06cbc719",
   "metadata": {},
   "outputs": [
    {
     "name": "stdout",
     "output_type": "stream",
     "text": [
      "Data provided by CityBikes API: https://citybik.es\n",
      "                                 id                         name        lat  \\\n",
      "0  fb337bbed72e2be090071e199899b2be    Queen St E / Woodward Ave  43.665269   \n",
      "1  4ff88d5880e71aa40d34cfe5d09b0ca7  Primrose Ave / Davenport Rd  43.671420   \n",
      "\n",
      "         lon  bikes  \n",
      "0 -79.319796      3  \n",
      "1 -79.445947     11  \n"
     ]
    }
   ],
   "source": [
    "import os\n",
    "import requests\n",
    "import pandas as pd\n",
    "import json\n",
    "\n",
    "api_key = os.getenv('test_project2')  \n",
    "\n",
    "# Get networks\n",
    "networks_url = 'https://api.citybik.es/v2/networks'\n",
    "networks_response = requests.get(networks_url, {'apiKey': api_key})\n",
    "\n",
    "# Filter networks\n",
    "networks = networks_response.json()['networks']\n",
    "networks = [{k: v for k, v in network.items() if k in ['id', 'name']}\n",
    "            for network in networks]\n",
    "            \n",
    "# Get Toronto network          \n",
    "city_network = next(n for n in networks if n['name'] == 'Bike Share Toronto')\n",
    "city_id = city_network['id']\n",
    "\n",
    "# Get Toronto stations\n",
    "stations_url = f'https://api.citybik.es/v2/networks/{city_id}'\n",
    "stations_response = requests.get(stations_url, {'apiKey': api_key})\n",
    "stations = stations_response.json()['network']['stations']\n",
    "\n",
    "# Parse into dataframe\n",
    "station_data = []\n",
    "for s in stations:\n",
    "  station_data.append({\n",
    "    'id': s['id'],\n",
    "    'name': s['name'],\n",
    "    'lat': s['latitude'],\n",
    "    'lon': s['longitude'],    \n",
    "    'bikes': s['empty_slots']\n",
    "  })\n",
    "  \n",
    "bikes_df = pd.DataFrame(station_data) \n",
    "bikes_df = bikes_df.head(2)\n",
    "# Credit source\n",
    "print(\"Data provided by CityBikes API: https://citybik.es\") \n",
    "print(bikes_df.head())"
   ]
  },
  {
   "cell_type": "markdown",
   "id": "a6db576d",
   "metadata": {},
   "source": [
    "## Foursquare"
   ]
  },
  {
   "cell_type": "code",
   "execution_count": 33,
   "id": "1004dd36",
   "metadata": {},
   "outputs": [],
   "source": [
    "# Load API key \n",
    "FOURSQUARE_API_KEY = os.getenv('test_project2')\n",
    "\n",
    "def get_venues_fs(latitude, longitude, radius, categories):\n",
    "  \n",
    "  url = 'https://api.foursquare.com/v3/places/search'\n",
    "\n",
    "  headers = {\n",
    "    'accept': 'application/json',\n",
    "    'Authorization': FOURSQUARE_API_KEY    \n",
    "  }\n",
    "\n",
    "  params = {\n",
    "    'll': f'{latitude},{longitude}',\n",
    "    'radius': radius,\n",
    "    'limit': 50, \n",
    "    'categories' : ','.join(categories)\n",
    "  }\n",
    "  \n",
    "  response = requests.get(url, \n",
    "                       params=params,\n",
    "                       headers=headers)\n",
    "\n",
    "  return response.json()"
   ]
  },
  {
   "cell_type": "code",
   "execution_count": 34,
   "id": "6424f8d5",
   "metadata": {},
   "outputs": [
    {
     "name": "stdout",
     "output_type": "stream",
     "text": [
      "         lat        lon  fs_parks\n",
      "0  43.665269 -79.319796        29\n",
      "1  43.671420 -79.445947        28\n"
     ]
    }
   ],
   "source": [
    "# Define the list of categories (e.g., '16032' category ID for Parks)\n",
    "categories = ['16032']\n",
    "\n",
    "# Initialize a list to store venue data\n",
    "venue_list = []\n",
    "\n",
    "# Iterate through the DataFrame rows\n",
    "for index, row in bikes_df.head(2).iterrows():\n",
    "    lat = row['lat']\n",
    "    lon = row['lon']\n",
    "\n",
    "    # Call API using the provided latitude, longitude, radius, and categories\n",
    "    data = get_venues_fs(lat, lon, 1500, categories)\n",
    "\n",
    "    # Append the number of venues retrieved to the venue_list\n",
    "    venue_list.append({\n",
    "        'lat': lat,\n",
    "        'lon': lon,\n",
    "        'fs_parks': len(data['results'])\n",
    "    })\n",
    "\n",
    "# Create a DataFrame from the venue data list\n",
    "foursquare_parks_df = pd.DataFrame(venue_list)\n",
    "\n",
    "# Display the resulting DataFrame\n",
    "print(foursquare_parks_df)"
   ]
  },
  {
   "cell_type": "code",
   "execution_count": 35,
   "id": "664cbd8a",
   "metadata": {},
   "outputs": [
    {
     "name": "stdout",
     "output_type": "stream",
     "text": [
      "[{'lat': 43.665269, 'lon': -79.319796, 'fs_parks': 29}, {'lat': 43.67142, 'lon': -79.445947, 'fs_parks': 28}]\n"
     ]
    }
   ],
   "source": [
    "print(venue_list)"
   ]
  },
  {
   "cell_type": "code",
   "execution_count": 7,
   "id": "5d491936",
   "metadata": {},
   "outputs": [
    {
     "name": "stdout",
     "output_type": "stream",
     "text": [
      "{'results': [{'fsq_id': '4ad4c05ef964a520ccf620e3', 'categories': [{'id': 16032, 'name': 'Park', 'icon': {'prefix': 'https://ss3.4sqi.net/img/categories_v2/parks_outdoors/park_', 'suffix': '.png'}}], 'chains': [], 'distance': 505, 'geocodes': {'main': {'latitude': 43.67369, 'longitude': -79.45165}}, 'link': '/v3/places/4ad4c05ef964a520ccf620e3', 'location': {'address': '1200 Lansdowne Ave', 'country': 'CA', 'cross_street': '', 'formatted_address': '1200 Lansdowne Ave, Toronto ON M6H 3Z8', 'locality': 'Toronto', 'postcode': 'M6H 3Z8', 'region': 'ON'}, 'name': 'Earlscourt Park', 'related_places': {}, 'timezone': 'America/Toronto'}, {'fsq_id': '4bb7a3ef1261d13a9c9fe798', 'categories': [{'id': 16032, 'name': 'Park', 'icon': {'prefix': 'https://ss3.4sqi.net/img/categories_v2/parks_outdoors/park_', 'suffix': '.png'}}], 'chains': [], 'distance': 877, 'geocodes': {'main': {'latitude': 43.663764, 'longitude': -79.448418}}, 'link': '/v3/places/4bb7a3ef1261d13a9c9fe798', 'location': {'address': 'Campbell Ave', 'country': 'CA', 'cross_street': '', 'formatted_address': 'Campbell Ave, Toronto ON', 'locality': 'Toronto', 'region': 'ON'}, 'name': 'Campbell Avenue Park', 'related_places': {}, 'timezone': 'America/Toronto'}, {'fsq_id': '4da781ab0cb65e9aae54e9ea', 'categories': [{'id': 16033, 'name': 'Dog Park', 'icon': {'prefix': 'https://ss3.4sqi.net/img/categories_v2/parks_outdoors/dogrun_', 'suffix': '.png'}}], 'chains': [], 'distance': 270, 'geocodes': {'main': {'latitude': 43.671997, 'longitude': -79.44946}}, 'link': '/v3/places/4da781ab0cb65e9aae54e9ea', 'location': {'address': '1200 Lansdowne Ave', 'country': 'CA', 'cross_street': '', 'formatted_address': '1200 Lansdowne Ave, Toronto ON M6H 3Z8', 'locality': 'Toronto', 'postcode': 'M6H 3Z8', 'region': 'ON'}, 'name': 'Earlscourt Park Off-Leash Area', 'related_places': {}, 'timezone': 'America/Toronto'}, {'fsq_id': '5069b6cbe4b0d34396cab1ea', 'categories': [{'id': 16037, 'name': 'Playground', 'icon': {'prefix': 'https://ss3.4sqi.net/img/categories_v2/parks_outdoors/playground_', 'suffix': '.png'}}], 'chains': [], 'distance': 61, 'geocodes': {'main': {'latitude': 43.67169, 'longitude': -79.446745}}, 'link': '/v3/places/5069b6cbe4b0d34396cab1ea', 'location': {'address': '120 Primrose Ave', 'country': 'CA', 'cross_street': '', 'formatted_address': '120 Primrose Ave, Toronto ON', 'locality': 'Toronto', 'region': 'ON'}, 'name': 'Primrose Avenue Parkette', 'related_places': {}, 'timezone': 'America/Toronto'}, {'fsq_id': '5066fc5be4b01301ebf02337', 'categories': [{'id': 16032, 'name': 'Park', 'icon': {'prefix': 'https://ss3.4sqi.net/img/categories_v2/parks_outdoors/park_', 'suffix': '.png'}}], 'chains': [], 'distance': 247, 'geocodes': {'drop_off': {'latitude': 43.671015, 'longitude': -79.449325}, 'main': {'latitude': 43.671077, 'longitude': -79.448985}, 'roof': {'latitude': 43.671077, 'longitude': -79.448985}}, 'link': '/v3/places/5066fc5be4b01301ebf02337', 'location': {'country': 'CA', 'cross_street': '', 'formatted_address': 'ON', 'region': 'ON'}, 'name': 'Davenport Village in Toronto', 'related_places': {}, 'timezone': 'America/Toronto'}, {'fsq_id': '531cb63e498e0ba3d0d53484', 'categories': [{'id': 16032, 'name': 'Park', 'icon': {'prefix': 'https://ss3.4sqi.net/img/categories_v2/parks_outdoors/park_', 'suffix': '.png'}}], 'chains': [], 'distance': 290, 'geocodes': {'main': {'latitude': 43.670728, 'longitude': -79.442241}, 'roof': {'latitude': 43.670728, 'longitude': -79.442241}}, 'link': '/v3/places/531cb63e498e0ba3d0d53484', 'location': {'address': '75 Lightbourne Ave', 'country': 'CA', 'cross_street': '', 'formatted_address': '75 Lightbourne Ave, Toronto ON', 'locality': 'Toronto', 'region': 'ON'}, 'name': 'Chandos Park North', 'related_places': {}, 'timezone': 'America/Toronto'}, {'fsq_id': '576dcda6498e282812c4c38c', 'categories': [{'id': 11039, 'name': 'Event Space', 'icon': {'prefix': 'https://ss3.4sqi.net/img/categories_v2/building/eventspace_', 'suffix': '.png'}}, {'id': 16037, 'name': 'Playground', 'icon': {'prefix': 'https://ss3.4sqi.net/img/categories_v2/parks_outdoors/playground_', 'suffix': '.png'}}, {'id': 18021, 'name': 'Gym and Studio', 'icon': {'prefix': 'https://ss3.4sqi.net/img/categories_v2/building/gym_', 'suffix': '.png'}}], 'chains': [], 'distance': 467, 'geocodes': {'drop_off': {'latitude': 43.669312, 'longitude': -79.440651}, 'main': {'latitude': 43.669549, 'longitude': -79.440695}, 'roof': {'latitude': 43.669549, 'longitude': -79.440695}}, 'link': '/v3/places/576dcda6498e282812c4c38c', 'location': {'address': '272 Geary Ave', 'country': 'CA', 'cross_street': '', 'formatted_address': '272 Geary Ave, Toronto ON M6H 2C5', 'locality': 'Toronto', 'postcode': 'M6H 2C5', 'region': 'ON'}, 'name': \"The Devil's X\", 'related_places': {}, 'timezone': 'America/Toronto'}, {'fsq_id': '4e6e866462e14570896f9ef5', 'categories': [{'id': 16033, 'name': 'Dog Park', 'icon': {'prefix': 'https://ss3.4sqi.net/img/categories_v2/parks_outdoors/dogrun_', 'suffix': '.png'}}], 'chains': [], 'distance': 508, 'geocodes': {'main': {'latitude': 43.666881, 'longitude': -79.444944}, 'roof': {'latitude': 43.666881, 'longitude': -79.444944}}, 'link': '/v3/places/4e6e866462e14570896f9ef5', 'location': {'country': 'CA', 'cross_street': '', 'formatted_address': 'Toronto ON', 'locality': 'Toronto', 'region': 'ON'}, 'name': 'Wallace Emerson Bmx Trail', 'related_places': {}, 'timezone': 'America/Toronto'}, {'fsq_id': '4da12cd2bf22a143a77a96f8', 'categories': [{'id': 16033, 'name': 'Dog Park', 'icon': {'prefix': 'https://ss3.4sqi.net/img/categories_v2/parks_outdoors/dogrun_', 'suffix': '.png'}}], 'chains': [], 'distance': 588, 'geocodes': {'main': {'latitude': 43.66607, 'longitude': -79.445281}, 'roof': {'latitude': 43.66607, 'longitude': -79.445281}}, 'link': '/v3/places/4da12cd2bf22a143a77a96f8', 'location': {'country': 'CA', 'cross_street': '', 'formatted_address': 'Toronto ON', 'locality': 'Toronto', 'region': 'ON'}, 'name': 'Night Stroll', 'related_places': {}, 'timezone': 'America/Toronto'}, {'fsq_id': '531cb8bc498ed8c755273cf1', 'categories': [{'id': 16032, 'name': 'Park', 'icon': {'prefix': 'https://ss3.4sqi.net/img/categories_v2/parks_outdoors/park_', 'suffix': '.png'}}], 'chains': [], 'distance': 604, 'geocodes': {'drop_off': {'latitude': 43.670788, 'longitude': -79.438449}, 'main': {'latitude': 43.67071, 'longitude': -79.438637}}, 'link': '/v3/places/531cb8bc498ed8c755273cf1', 'location': {'address': '25 Bristol Ave', 'country': 'CA', 'cross_street': '', 'formatted_address': '25 Bristol Ave, Toronto ON', 'locality': 'Toronto', 'region': 'ON'}, 'name': 'Bristol Avenue Parkette', 'related_places': {}, 'timezone': 'America/Toronto'}, {'fsq_id': '4d330b7298336dcb22e029f0', 'categories': [{'id': 16032, 'name': 'Park', 'icon': {'prefix': 'https://ss3.4sqi.net/img/categories_v2/parks_outdoors/park_', 'suffix': '.png'}}, {'id': 18056, 'name': 'Skating Rink', 'icon': {'prefix': 'https://ss3.4sqi.net/img/categories_v2/parks_outdoors/skatingrink_', 'suffix': '.png'}}], 'chains': [], 'distance': 700, 'geocodes': {'drop_off': {'latitude': 43.675822, 'longitude': -79.452383}, 'main': {'latitude': 43.67555, 'longitude': -79.452323}, 'roof': {'latitude': 43.67555, 'longitude': -79.452323}}, 'link': '/v3/places/4d330b7298336dcb22e029f0', 'location': {'country': 'CA', 'cross_street': '', 'formatted_address': 'Toronto ON', 'locality': 'Toronto', 'region': 'ON'}, 'name': 'Giovanni Caboto Rink', 'related_places': {}, 'timezone': 'America/Toronto'}, {'fsq_id': '4bc30e7c461576b0d3117e32', 'categories': [{'id': 16032, 'name': 'Park', 'icon': {'prefix': 'https://ss3.4sqi.net/img/categories_v2/parks_outdoors/park_', 'suffix': '.png'}}, {'id': 18000, 'name': 'Sports and Recreation', 'icon': {'prefix': 'https://ss3.4sqi.net/img/categories_v2/shops/sports_outdoors_', 'suffix': '.png'}}], 'chains': [], 'distance': 884, 'geocodes': {'drop_off': {'latitude': 43.671924, 'longitude': -79.456474}, 'main': {'latitude': 43.672006, 'longitude': -79.456244}, 'roof': {'latitude': 43.672006, 'longitude': -79.456244}}, 'link': '/v3/places/4bc30e7c461576b0d3117e32', 'location': {'country': 'CA', 'cross_street': '', 'formatted_address': 'ON', 'region': 'ON'}, 'name': 'Wadsworth Park', 'related_places': {}, 'timezone': 'America/Toronto'}, {'fsq_id': '4ce7132ce888f04d9ce0396b', 'categories': [{'id': 16032, 'name': 'Park', 'icon': {'prefix': 'https://ss3.4sqi.net/img/categories_v2/parks_outdoors/park_', 'suffix': '.png'}}], 'chains': [], 'distance': 888, 'geocodes': {'main': {'latitude': 43.675621, 'longitude': -79.455188}, 'roof': {'latitude': 43.675621, 'longitude': -79.455188}}, 'link': '/v3/places/4ce7132ce888f04d9ce0396b', 'location': {'country': 'CA', 'cross_street': 'St Clair and laughton', 'formatted_address': 'St Clair and laughton, Toronto ON', 'locality': 'Toronto', 'region': 'ON'}, 'name': 'St. Clair Gardens Parkette', 'related_places': {}, 'timezone': 'America/Toronto'}, {'fsq_id': '4bbdc4f64e069c741c119fe3', 'categories': [{'id': 16032, 'name': 'Park', 'icon': {'prefix': 'https://ss3.4sqi.net/img/categories_v2/parks_outdoors/park_', 'suffix': '.png'}}], 'chains': [], 'distance': 979, 'geocodes': {'main': {'latitude': 43.664363, 'longitude': -79.451741}, 'roof': {'latitude': 43.664363, 'longitude': -79.451741}}, 'link': '/v3/places/4bbdc4f64e069c741c119fe3', 'location': {'address': '350 Perth Ave', 'country': 'CA', 'cross_street': 'at Dupont St.', 'formatted_address': '350 Perth Ave (at Dupont St.), Toronto ON', 'locality': 'Toronto', 'region': 'ON'}, 'name': 'Perth Square Park', 'related_places': {}, 'timezone': 'America/Toronto'}, {'fsq_id': '4bb66de32f70c9b6b0678530', 'categories': [{'id': 10000, 'name': 'Arts and Entertainment', 'icon': {'prefix': 'https://ss3.4sqi.net/img/categories_v2/arts_entertainment/default_', 'suffix': '.png'}}, {'id': 16037, 'name': 'Playground', 'icon': {'prefix': 'https://ss3.4sqi.net/img/categories_v2/parks_outdoors/playground_', 'suffix': '.png'}}, {'id': 18000, 'name': 'Sports and Recreation', 'icon': {'prefix': 'https://ss3.4sqi.net/img/categories_v2/shops/sports_outdoors_', 'suffix': '.png'}}], 'chains': [], 'distance': 1057, 'geocodes': {'main': {'latitude': 43.668817, 'longitude': -79.443805}, 'roof': {'latitude': 43.668817, 'longitude': -79.443805}}, 'link': '/v3/places/4bb66de32f70c9b6b0678530', 'location': {'address': '360 Geary Ave', 'country': 'CA', 'cross_street': 'at Ossington Ave', 'formatted_address': '360 Geary Ave (at Ossington Ave), Toronto ON M6H 2B3', 'locality': 'Toronto', 'postcode': 'M6H 2B3', 'region': 'ON'}, 'name': 'Geary Ave Parkette', 'related_places': {}, 'timezone': 'America/Toronto'}, {'fsq_id': '4cc9ea67bfe1f04d3fd91075', 'categories': [{'id': 16033, 'name': 'Dog Park', 'icon': {'prefix': 'https://ss3.4sqi.net/img/categories_v2/parks_outdoors/dogrun_', 'suffix': '.png'}}], 'chains': [], 'distance': 1058, 'geocodes': {'main': {'latitude': 43.674368, 'longitude': -79.433143}, 'roof': {'latitude': 43.674368, 'longitude': -79.433143}}, 'link': '/v3/places/4cc9ea67bfe1f04d3fd91075', 'location': {'address': '601 Christie St', 'country': 'CA', 'formatted_address': '601 Christie St, Toronto ON M6G 4C7', 'locality': 'Toronto', 'postcode': 'M6G 4C7', 'region': 'ON'}, 'name': 'Wychwood Dog Park', 'related_places': {}, 'timezone': 'America/Toronto'}, {'fsq_id': '4bc3505c461576b06e707e32', 'categories': [{'id': 16037, 'name': 'Playground', 'icon': {'prefix': 'https://ss3.4sqi.net/img/categories_v2/parks_outdoors/playground_', 'suffix': '.png'}}], 'chains': [], 'distance': 1192, 'geocodes': {'drop_off': {'latitude': 43.676579, 'longitude': -79.432735}, 'main': {'latitude': 43.676739, 'longitude': -79.432962}, 'roof': {'latitude': 43.676739, 'longitude': -79.432962}}, 'link': '/v3/places/4bc3505c461576b06e707e32', 'location': {'address': '49 Mount Royal Ave', 'country': 'CA', 'cross_street': 'at Alberta Ave', 'formatted_address': '49 Mount Royal Ave (at Alberta Ave), Toronto ON M6H 2S4', 'locality': 'Toronto', 'postcode': 'M6H 2S4', 'region': 'ON'}, 'name': 'Mount Royal Parkette', 'related_places': {}, 'timezone': 'America/Toronto'}, {'fsq_id': '52c86f0b498e1d9e64610c3d', 'categories': [{'id': 16032, 'name': 'Park', 'icon': {'prefix': 'https://ss3.4sqi.net/img/categories_v2/parks_outdoors/park_', 'suffix': '.png'}}], 'chains': [], 'distance': 1252, 'geocodes': {'drop_off': {'latitude': 43.663871, 'longitude': -79.457776}, 'main': {'latitude': 43.663982, 'longitude': -79.457713}}, 'link': '/v3/places/52c86f0b498e1d9e64610c3d', 'location': {'address': '2640 Dundas St W', 'country': 'CA', 'cross_street': 'Dupont', 'formatted_address': '2640 Dundas St W (Dupont), Toronto ON', 'locality': 'Toronto', 'region': 'ON'}, 'name': 'Dundas - Dupont Traffic Island', 'related_places': {}, 'timezone': 'America/Toronto'}, {'fsq_id': '4ba2509ff964a5207eec37e3', 'categories': [{'id': 16032, 'name': 'Park', 'icon': {'prefix': 'https://ss3.4sqi.net/img/categories_v2/parks_outdoors/park_', 'suffix': '.png'}}], 'chains': [], 'distance': 1282, 'geocodes': {'main': {'latitude': 43.673787, 'longitude': -79.430337}, 'roof': {'latitude': 43.673787, 'longitude': -79.430337}}, 'link': '/v3/places/4ba2509ff964a5207eec37e3', 'location': {'country': 'CA', 'cross_street': 'Christie & Dupont', 'formatted_address': 'Christie & Dupont, Toronto ON', 'locality': 'Toronto', 'region': 'ON'}, 'name': 'Frankel Lambert Park', 'related_places': {}, 'timezone': 'America/Toronto'}, {'fsq_id': '4bfaf49abc8695217d047b6b', 'categories': [{'id': 16037, 'name': 'Playground', 'icon': {'prefix': 'https://ss3.4sqi.net/img/categories_v2/parks_outdoors/playground_', 'suffix': '.png'}}], 'chains': [], 'distance': 1338, 'geocodes': {'drop_off': {'latitude': 43.659066, 'longitude': -79.446372}, 'main': {'latitude': 43.659224, 'longitude': -79.446006}}, 'link': '/v3/places/4bfaf49abc8695217d047b6b', 'location': {'address': '112 Rankin Cres', 'country': 'CA', 'cross_street': 'Paton Rd', 'formatted_address': '112 Rankin Cres (Paton Rd), Toronto ON M6P 4G6', 'locality': 'Toronto', 'postcode': 'M6P 4G6', 'region': 'ON'}, 'name': 'Erwin Krickhahn Park', 'related_places': {}, 'timezone': 'America/Toronto'}, {'fsq_id': '50f32e79e4b077d655956729', 'categories': [{'id': 16032, 'name': 'Park', 'icon': {'prefix': 'https://ss3.4sqi.net/img/categories_v2/parks_outdoors/park_', 'suffix': '.png'}}], 'chains': [], 'distance': 1367, 'geocodes': {'main': {'latitude': 43.675859, 'longitude': -79.461916}, 'roof': {'latitude': 43.675859, 'longitude': -79.461916}}, 'link': '/v3/places/50f32e79e4b077d655956729', 'location': {'address': '56 SILVERTHORN Ave', 'country': 'CA', 'cross_street': '', 'formatted_address': '56 SILVERTHORN Ave'}, 'name': 'S.A.D.R.A Park', 'related_places': {}, 'timezone': 'America/Toronto'}, {'fsq_id': '4e1119efd1647a0fff7e67ee', 'categories': [{'id': 16032, 'name': 'Park', 'icon': {'prefix': 'https://ss3.4sqi.net/img/categories_v2/parks_outdoors/park_', 'suffix': '.png'}}], 'chains': [], 'distance': 1391, 'geocodes': {'main': {'latitude': 43.664986, 'longitude': -79.460867}, 'roof': {'latitude': 43.664986, 'longitude': -79.460867}}, 'link': '/v3/places/4e1119efd1647a0fff7e67ee', 'location': {'country': 'CA', 'cross_street': '', 'formatted_address': 'Toronto ON', 'locality': 'Toronto', 'region': 'ON'}, 'name': 'Dundas watkinson Parkette', 'related_places': {}, 'timezone': 'America/Toronto'}, {'fsq_id': '4d8d10b65234a09043ceabbd', 'categories': [{'id': 16032, 'name': 'Park', 'icon': {'prefix': 'https://ss3.4sqi.net/img/categories_v2/parks_outdoors/park_', 'suffix': '.png'}}], 'chains': [], 'distance': 1405, 'geocodes': {'main': {'latitude': 43.659841, 'longitude': -79.439091}, 'roof': {'latitude': 43.659841, 'longitude': -79.439091}}, 'link': '/v3/places/4d8d10b65234a09043ceabbd', 'location': {'address': '620 BROCK Ave', 'country': 'CA', 'formatted_address': '620 BROCK Ave'}, 'name': 'Hermits Park', 'related_places': {}, 'timezone': 'America/Toronto'}, {'fsq_id': '4c366d5b2c8020a1da5b8700', 'categories': [{'id': 16037, 'name': 'Playground', 'icon': {'prefix': 'https://ss3.4sqi.net/img/categories_v2/parks_outdoors/playground_', 'suffix': '.png'}}], 'chains': [], 'distance': 1418, 'geocodes': {'drop_off': {'latitude': 43.659461, 'longitude': -79.439924}, 'main': {'latitude': 43.659579, 'longitude': -79.43961}, 'roof': {'latitude': 43.659579, 'longitude': -79.43961}}, 'link': '/v3/places/4c366d5b2c8020a1da5b8700', 'location': {'address': '353 Margueretta St', 'country': 'CA', 'cross_street': 'at Bloor St W', 'formatted_address': '353 Margueretta St (at Bloor St W), Toronto ON M6H 1T5', 'locality': 'Toronto', 'postcode': 'M6H 1T5', 'region': 'ON'}, 'name': 'Susan Tibaldi Parkette', 'related_places': {}, 'timezone': 'America/Toronto'}, {'fsq_id': '4c4228753735be9a689719a4', 'categories': [{'id': 16037, 'name': 'Playground', 'icon': {'prefix': 'https://ss3.4sqi.net/img/categories_v2/parks_outdoors/playground_', 'suffix': '.png'}}], 'chains': [], 'distance': 1458, 'geocodes': {'main': {'latitude': 43.67785, 'longitude': -79.430052}, 'roof': {'latitude': 43.67785, 'longitude': -79.430052}}, 'link': '/v3/places/4c4228753735be9a689719a4', 'location': {'country': 'CA', 'cross_street': '', 'formatted_address': ''}, 'name': 'Winona park', 'related_places': {}, 'timezone': 'America/Toronto'}, {'fsq_id': '4d8fe809cb9b224bd1c3a541', 'categories': [{'id': 16032, 'name': 'Park', 'icon': {'prefix': 'https://ss3.4sqi.net/img/categories_v2/parks_outdoors/park_', 'suffix': '.png'}}], 'chains': [], 'distance': 1458, 'geocodes': {'drop_off': {'latitude': 43.671683, 'longitude': -79.427843}, 'main': {'latitude': 43.671833, 'longitude': -79.427872}, 'roof': {'latitude': 43.671833, 'longitude': -79.427872}}, 'link': '/v3/places/4d8fe809cb9b224bd1c3a541', 'location': {'address': '1152 Shaw St', 'country': 'CA', 'cross_street': 'Dupont', 'formatted_address': '1152 Shaw St (Dupont), Toronto ON M6G 4B8', 'locality': 'Toronto', 'postcode': 'M6G 4B8', 'region': 'ON'}, 'name': 'Garrison Creek Park', 'related_places': {}, 'timezone': 'America/Toronto'}, {'fsq_id': '83397579c7254c817eba9ea2', 'categories': [{'id': 16032, 'name': 'Park', 'icon': {'prefix': 'https://ss3.4sqi.net/img/categories_v2/parks_outdoors/park_', 'suffix': '.png'}}], 'chains': [], 'distance': 680, 'geocodes': {'main': {'latitude': 43.675747, 'longitude': -79.451934}, 'roof': {'latitude': 43.675747, 'longitude': -79.451934}}, 'link': '/v3/places/83397579c7254c817eba9ea2', 'location': {'address': '1367 Saint Clair Ave W', 'country': 'CA', 'formatted_address': '1367 Saint Clair Ave W, Toronto ON M6E 1C5', 'locality': 'Toronto', 'postcode': 'M6E 1C5', 'region': 'ON'}, 'name': 'Giovanni Caboto Swimming Pool', 'related_places': {}}, {'fsq_id': 'efc59e043a3240e0926da817', 'categories': [{'id': 16032, 'name': 'Park', 'icon': {'prefix': 'https://ss3.4sqi.net/img/categories_v2/parks_outdoors/park_', 'suffix': '.png'}}], 'chains': [], 'distance': 783, 'geocodes': {'main': {'latitude': 43.670546, 'longitude': -79.436272}, 'roof': {'latitude': 43.670546, 'longitude': -79.436272}}, 'link': '/v3/places/efc59e043a3240e0926da817', 'location': {'address': '160 Geary Ave', 'country': 'CA', 'formatted_address': '160 Geary Ave, Toronto ON', 'locality': 'Toronto', 'region': 'ON'}, 'name': 'Bartlett Parkette', 'related_places': {}}], 'context': {'geo_bounds': {'circle': {'center': {'latitude': 43.67142, 'longitude': -79.445947}, 'radius': 1500}}}}\n"
     ]
    }
   ],
   "source": [
    "print(data)"
   ]
  },
  {
   "cell_type": "code",
   "execution_count": 30,
   "id": "6b257b6c",
   "metadata": {
    "scrolled": true
   },
   "outputs": [
    {
     "data": {
      "text/html": [
       "<div>\n",
       "<style scoped>\n",
       "    .dataframe tbody tr th:only-of-type {\n",
       "        vertical-align: middle;\n",
       "    }\n",
       "\n",
       "    .dataframe tbody tr th {\n",
       "        vertical-align: top;\n",
       "    }\n",
       "\n",
       "    .dataframe thead th {\n",
       "        text-align: right;\n",
       "    }\n",
       "</style>\n",
       "<table border=\"1\" class=\"dataframe\">\n",
       "  <thead>\n",
       "    <tr style=\"text-align: right;\">\n",
       "      <th></th>\n",
       "      <th>id</th>\n",
       "      <th>name</th>\n",
       "      <th>lat</th>\n",
       "      <th>lon</th>\n",
       "      <th>bikes</th>\n",
       "      <th>fs_park</th>\n",
       "      <th>venue_list</th>\n",
       "    </tr>\n",
       "  </thead>\n",
       "  <tbody>\n",
       "    <tr>\n",
       "      <th>0</th>\n",
       "      <td>fb337bbed72e2be090071e199899b2be</td>\n",
       "      <td>Queen St E / Woodward Ave</td>\n",
       "      <td>43.665269</td>\n",
       "      <td>-79.319796</td>\n",
       "      <td>3</td>\n",
       "      <td>29</td>\n",
       "      <td>{'lat': 43.665269, 'lon': -79.319796, 'venue_c...</td>\n",
       "    </tr>\n",
       "    <tr>\n",
       "      <th>1</th>\n",
       "      <td>4ff88d5880e71aa40d34cfe5d09b0ca7</td>\n",
       "      <td>Primrose Ave / Davenport Rd</td>\n",
       "      <td>43.671420</td>\n",
       "      <td>-79.445947</td>\n",
       "      <td>11</td>\n",
       "      <td>28</td>\n",
       "      <td>{'lat': 43.67142, 'lon': -79.445947, 'venue_co...</td>\n",
       "    </tr>\n",
       "  </tbody>\n",
       "</table>\n",
       "</div>"
      ],
      "text/plain": [
       "                                 id                         name        lat  \\\n",
       "0  fb337bbed72e2be090071e199899b2be    Queen St E / Woodward Ave  43.665269   \n",
       "1  4ff88d5880e71aa40d34cfe5d09b0ca7  Primrose Ave / Davenport Rd  43.671420   \n",
       "\n",
       "         lon  bikes  fs_park  \\\n",
       "0 -79.319796      3       29   \n",
       "1 -79.445947     11       28   \n",
       "\n",
       "                                          venue_list  \n",
       "0  {'lat': 43.665269, 'lon': -79.319796, 'venue_c...  \n",
       "1  {'lat': 43.67142, 'lon': -79.445947, 'venue_co...  "
      ]
     },
     "execution_count": 30,
     "metadata": {},
     "output_type": "execute_result"
    }
   ],
   "source": [
    "bikes_df['fs_park'] = venue_list\n",
    "# Assign the Foursquare API venue_list as a new column 'fs_venue' in the bikes_df DataFrame\n",
    "bikes_df"
   ]
  },
  {
   "cell_type": "code",
   "execution_count": null,
   "id": "4df6489f",
   "metadata": {},
   "outputs": [],
   "source": []
  },
  {
   "cell_type": "markdown",
   "id": "9d408004",
   "metadata": {},
   "source": [
    "or this"
   ]
  },
  {
   "cell_type": "code",
   "execution_count": 9,
   "id": "edd45010",
   "metadata": {},
   "outputs": [],
   "source": [
    "# Load API key \n",
    "FOURSQUARE_API_KEY = os.getenv('test_project2')\n",
    "\n",
    "def get_venues_fs(latitude, longitude, radius, categories):\n",
    "  \n",
    "  url = 'https://api.foursquare.com/v3/places/search'\n",
    "\n",
    "  headers = {\n",
    "    'accept': 'application/json',\n",
    "    'Authorization': FOURSQUARE_API_KEY    \n",
    "  }\n",
    "\n",
    "  params = {\n",
    "    'll': f'{latitude},{longitude}',\n",
    "    'radius': radius,\n",
    "    'limit': 50, \n",
    "    'categories' : ','.join(categories)\n",
    "  }\n",
    "  \n",
    "  response = requests.get(url, \n",
    "                       params=params,\n",
    "                       headers=headers)\n",
    "\n",
    "  return response.json()"
   ]
  },
  {
   "cell_type": "code",
   "execution_count": 10,
   "id": "d9454847",
   "metadata": {},
   "outputs": [
    {
     "name": "stdout",
     "output_type": "stream",
     "text": [
      "         lat        lon  venue_count\n",
      "0  43.665269 -79.319796           29\n",
      "1  43.671420 -79.445947           28\n"
     ]
    }
   ],
   "source": [
    "# Define the list of categories (e.g., '16032' category ID for Parks)\n",
    "categories = ['16032']\n",
    "\n",
    "# Initialize a list to store venue data\n",
    "venue_list = []\n",
    "\n",
    "# Iterate through the DataFrame rows\n",
    "for index, row in bikes_df.head(2).iterrows():\n",
    "    lat = row['lat']\n",
    "    lon = row['lon']\n",
    "\n",
    "    # Call API using the provided latitude, longitude, radius, and categories\n",
    "    data = get_venues_fs(lat, lon, 1500, categories)\n",
    "\n",
    "    # Append the number of venues retrieved to the venue_list\n",
    "    venue_list.append({\n",
    "        'lat': lat,\n",
    "        'lon': lon,\n",
    "        'venue_count': len(data['results'])\n",
    "    })\n",
    "\n",
    "# Create a DataFrame from the venue data list\n",
    "foursquare_results_df = pd.DataFrame(venue_list)\n",
    "\n",
    "# Display the resulting DataFrame\n",
    "print(foursquare_results_df)\n"
   ]
  },
  {
   "cell_type": "code",
   "execution_count": null,
   "id": "6c23cb70",
   "metadata": {},
   "outputs": [],
   "source": []
  },
  {
   "cell_type": "markdown",
   "id": "6cc0cd70",
   "metadata": {},
   "source": [
    "## YELP"
   ]
  },
  {
   "cell_type": "code",
   "execution_count": 11,
   "id": "3a64d911",
   "metadata": {},
   "outputs": [
    {
     "data": {
      "text/html": [
       "<div>\n",
       "<style scoped>\n",
       "    .dataframe tbody tr th:only-of-type {\n",
       "        vertical-align: middle;\n",
       "    }\n",
       "\n",
       "    .dataframe tbody tr th {\n",
       "        vertical-align: top;\n",
       "    }\n",
       "\n",
       "    .dataframe thead th {\n",
       "        text-align: right;\n",
       "    }\n",
       "</style>\n",
       "<table border=\"1\" class=\"dataframe\">\n",
       "  <thead>\n",
       "    <tr style=\"text-align: right;\">\n",
       "      <th></th>\n",
       "      <th>id</th>\n",
       "      <th>lat</th>\n",
       "      <th>lon</th>\n",
       "      <th>bikes</th>\n",
       "      <th>fs_venue</th>\n",
       "      <th>yelp_park_venue</th>\n",
       "    </tr>\n",
       "  </thead>\n",
       "  <tbody>\n",
       "    <tr>\n",
       "      <th>0</th>\n",
       "      <td>fb337bbed72e2be090071e199899b2be</td>\n",
       "      <td>43.665269</td>\n",
       "      <td>-79.319796</td>\n",
       "      <td>4</td>\n",
       "      <td>29</td>\n",
       "      <td>10</td>\n",
       "    </tr>\n",
       "    <tr>\n",
       "      <th>1</th>\n",
       "      <td>4ff88d5880e71aa40d34cfe5d09b0ca7</td>\n",
       "      <td>43.671420</td>\n",
       "      <td>-79.445947</td>\n",
       "      <td>11</td>\n",
       "      <td>28</td>\n",
       "      <td>3</td>\n",
       "    </tr>\n",
       "  </tbody>\n",
       "</table>\n",
       "</div>"
      ],
      "text/plain": [
       "                                 id        lat        lon  bikes  fs_venue  \\\n",
       "0  fb337bbed72e2be090071e199899b2be  43.665269 -79.319796      4        29   \n",
       "1  4ff88d5880e71aa40d34cfe5d09b0ca7  43.671420 -79.445947     11        28   \n",
       "\n",
       "   yelp_park_venue  \n",
       "0               10  \n",
       "1                3  "
      ]
     },
     "execution_count": 11,
     "metadata": {},
     "output_type": "execute_result"
    }
   ],
   "source": [
    "# Load API key\n",
    "YELP_API_KEY = os.getenv('Yelp_key')\n",
    "\n",
    "def get_parks_yelp(latitude, longitude, radius):\n",
    "    url = 'https://api.yelp.com/v3/businesses/search'\n",
    "\n",
    "    headers = {\n",
    "        'Authorization': f'Bearer {YELP_API_KEY}'\n",
    "    }\n",
    "\n",
    "    params = {\n",
    "        'latitude': lat,\n",
    "        'longitude': lon,\n",
    "        'radius': radius,\n",
    "        'categories': 'parks', \n",
    "        'limit': 50  # Limit the number of results\n",
    "    }\n",
    "\n",
    "    response = requests.get(url, headers=headers, params=params)\n",
    "    \n",
    "    return response.json()\n",
    "\n",
    "# Assuming bikes_df and venue_list are defined as before\n",
    "parks_venue_list = []\n",
    "\n",
    "for index, row in bikes_df.head(3).iterrows():\n",
    "    lat = row['lat']\n",
    "    lon = row['lon']\n",
    "\n",
    "    # Call Yelp API for parks using the provided latitude, longitude, and radius\n",
    "    data = get_parks_yelp(lat, lon, 1500)\n",
    "    \n",
    "    # Append the number of park venues retrieved to the parks_venue_list\n",
    "    parks_venue_list.append(len(data['businesses']))\n",
    "\n",
    "# Assign the parks_venue_list as a new column 'yelp_park_venue' in the bikes_df DataFrame\n",
    "bikes_df['yelp_park_venue'] = parks_venue_list  # Add the count of park venues to the DataFrame\n",
    "bikes_df"
   ]
  },
  {
   "cell_type": "markdown",
   "id": "87b672db",
   "metadata": {},
   "source": [
    "another way"
   ]
  },
  {
   "cell_type": "code",
   "execution_count": null,
   "id": "8e2bfb6a",
   "metadata": {},
   "outputs": [],
   "source": []
  },
  {
   "cell_type": "code",
   "execution_count": 36,
   "id": "e22e1082",
   "metadata": {},
   "outputs": [
    {
     "name": "stdout",
     "output_type": "stream",
     "text": [
      "         lat        lon  yelp_parks\n",
      "0  43.665269 -79.319796          10\n",
      "1  43.671420 -79.445947           3\n"
     ]
    }
   ],
   "source": [
    "import pandas as pd\n",
    "import requests\n",
    "import os\n",
    "\n",
    "# Load API key\n",
    "YELP_API_KEY = os.getenv('Yelp_key')\n",
    "\n",
    "def get_parks_yelp(latitude, longitude, radius):\n",
    "    url = 'https://api.yelp.com/v3/businesses/search'\n",
    "\n",
    "    headers = {\n",
    "        'Authorization': f'Bearer {YELP_API_KEY}'\n",
    "    }\n",
    "\n",
    "    params = {\n",
    "        'latitude': lat,\n",
    "        'longitude': lon,\n",
    "        'radius': radius,\n",
    "        'categories': 'parks', \n",
    "        'limit': 50  # Limit the number of results\n",
    "    }\n",
    "\n",
    "    response = requests.get(url, headers=headers, params=params)\n",
    "    \n",
    "    return response.json()\n",
    "\n",
    "# Create an empty list to store Yelp venue data\n",
    "yelp_venue_data = []\n",
    "\n",
    "# Assuming bikes_df is defined as before\n",
    "for index, row in bikes_df.head(2).iterrows():\n",
    "    lat = row['lat']\n",
    "    lon = row['lon']\n",
    "\n",
    "    # Call Yelp API for parks using the provided latitude, longitude, and radius\n",
    "    data = get_parks_yelp(lat, lon, 1500)\n",
    "    \n",
    "    # Append park venue count and location information to the yelp_venue_data list\n",
    "    yelp_venue_data.append({'lat': lat, 'lon': lon, 'yelp_parks': len(data['businesses'])})\n",
    "\n",
    "# Create a DataFrame from the yelp_venue_data list\n",
    "yelp_parks_df = pd.DataFrame(yelp_venue_data)\n",
    "\n",
    "# Display the yelp_venue_df DataFrame\n",
    "print(yelp_parks_df)\n"
   ]
  },
  {
   "cell_type": "code",
   "execution_count": null,
   "id": "531f92dc",
   "metadata": {},
   "outputs": [],
   "source": []
  },
  {
   "cell_type": "code",
   "execution_count": 13,
   "id": "21e66806",
   "metadata": {},
   "outputs": [
    {
     "name": "stdout",
     "output_type": "stream",
     "text": [
      "{\n",
      "    \"businesses\": [\n",
      "        {\n",
      "            \"id\": \"JODWOfeEICAlO2T_VAEbSg\",\n",
      "            \"alias\": \"earlscourt-park-toronto\",\n",
      "            \"name\": \"Earlscourt Park\",\n",
      "            \"image_url\": \"https://s3-media4.fl.yelpcdn.com/bphoto/T7TgPzVCGm9mem2vXZAqhQ/o.jpg\",\n",
      "            \"is_closed\": false,\n",
      "            \"url\": \"https://www.yelp.com/biz/earlscourt-park-toronto?adjust_creative=-P_SbkTTI-_baYTzsWMJRw&utm_campaign=yelp_api_v3&utm_medium=api_v3_business_search&utm_source=-P_SbkTTI-_baYTzsWMJRw\",\n",
      "            \"review_count\": 7,\n",
      "            \"categories\": [\n",
      "                {\n",
      "                    \"alias\": \"dog_parks\",\n",
      "                    \"title\": \"Dog Parks\"\n",
      "                }\n",
      "            ],\n",
      "            \"rating\": 3.5,\n",
      "            \"coordinates\": {\n",
      "                \"latitude\": 43.6735832512403,\n",
      "                \"longitude\": -79.4514083862305\n",
      "            },\n",
      "            \"transactions\": [],\n",
      "            \"location\": {\n",
      "                \"address1\": \"1200 Lansdowne Avenue\",\n",
      "                \"address2\": \"\",\n",
      "                \"address3\": \"\",\n",
      "                \"city\": \"Toronto\",\n",
      "                \"zip_code\": \"M6E 1C3\",\n",
      "                \"country\": \"CA\",\n",
      "                \"state\": \"ON\",\n",
      "                \"display_address\": [\n",
      "                    \"1200 Lansdowne Avenue\",\n",
      "                    \"Toronto, ON M6E 1C3\",\n",
      "                    \"Canada\"\n",
      "                ]\n",
      "            },\n",
      "            \"phone\": \"\",\n",
      "            \"display_phone\": \"\",\n",
      "            \"distance\": 500.7945405557504\n",
      "        },\n",
      "        {\n",
      "            \"id\": \"dzWdAHIEQPlAt_kbiuohgg\",\n",
      "            \"alias\": \"macgregor-park-toronto\",\n",
      "            \"name\": \"MacGregor Park\",\n",
      "            \"image_url\": \"https://s3-media4.fl.yelpcdn.com/bphoto/9R_LNQgvYcqkSeYQ0BPErg/o.jpg\",\n",
      "            \"is_closed\": false,\n",
      "            \"url\": \"https://www.yelp.com/biz/macgregor-park-toronto?adjust_creative=-P_SbkTTI-_baYTzsWMJRw&utm_campaign=yelp_api_v3&utm_medium=api_v3_business_search&utm_source=-P_SbkTTI-_baYTzsWMJRw\",\n",
      "            \"review_count\": 1,\n",
      "            \"categories\": [\n",
      "                {\n",
      "                    \"alias\": \"parks\",\n",
      "                    \"title\": \"Parks\"\n",
      "                }\n",
      "            ],\n",
      "            \"rating\": 4.0,\n",
      "            \"coordinates\": {\n",
      "                \"latitude\": 43.66483,\n",
      "                \"longitude\": -79.44569\n",
      "            },\n",
      "            \"transactions\": [],\n",
      "            \"location\": {\n",
      "                \"address1\": \"Lansdowne Ave\",\n",
      "                \"address2\": \"\",\n",
      "                \"address3\": \"\",\n",
      "                \"city\": \"Toronto\",\n",
      "                \"zip_code\": \"N0H 2CP\",\n",
      "                \"country\": \"CA\",\n",
      "                \"state\": \"ON\",\n",
      "                \"display_address\": [\n",
      "                    \"Lansdowne Ave\",\n",
      "                    \"Toronto, ON N0H 2CP\",\n",
      "                    \"Canada\"\n",
      "                ]\n",
      "            },\n",
      "            \"phone\": \"\",\n",
      "            \"display_phone\": \"\",\n",
      "            \"distance\": 733.0652599275508\n",
      "        },\n",
      "        {\n",
      "            \"id\": \"DbFsV4LRitxjM-zzJB0_-Q\",\n",
      "            \"alias\": \"dovercourt-park-toronto\",\n",
      "            \"name\": \"Dovercourt Park\",\n",
      "            \"image_url\": \"https://s3-media2.fl.yelpcdn.com/bphoto/v2LSSkk608UgRMkIupZsJA/o.jpg\",\n",
      "            \"is_closed\": false,\n",
      "            \"url\": \"https://www.yelp.com/biz/dovercourt-park-toronto?adjust_creative=-P_SbkTTI-_baYTzsWMJRw&utm_campaign=yelp_api_v3&utm_medium=api_v3_business_search&utm_source=-P_SbkTTI-_baYTzsWMJRw\",\n",
      "            \"review_count\": 6,\n",
      "            \"categories\": [\n",
      "                {\n",
      "                    \"alias\": \"parks\",\n",
      "                    \"title\": \"Parks\"\n",
      "                }\n",
      "            ],\n",
      "            \"rating\": 4.0,\n",
      "            \"coordinates\": {\n",
      "                \"latitude\": 43.6649254,\n",
      "                \"longitude\": -79.4322537\n",
      "            },\n",
      "            \"transactions\": [],\n",
      "            \"location\": {\n",
      "                \"address1\": \"160 Westmoreland Ave\",\n",
      "                \"address2\": \"\",\n",
      "                \"address3\": \"\",\n",
      "                \"city\": \"Toronto\",\n",
      "                \"zip_code\": \"M6H\",\n",
      "                \"country\": \"CA\",\n",
      "                \"state\": \"ON\",\n",
      "                \"display_address\": [\n",
      "                    \"160 Westmoreland Ave\",\n",
      "                    \"Toronto, ON M6H\",\n",
      "                    \"Canada\"\n",
      "                ]\n",
      "            },\n",
      "            \"phone\": \"\",\n",
      "            \"display_phone\": \"\",\n",
      "            \"distance\": 1334.483093317034\n",
      "        }\n",
      "    ],\n",
      "    \"total\": 3,\n",
      "    \"region\": {\n",
      "        \"center\": {\n",
      "            \"longitude\": -79.445947,\n",
      "            \"latitude\": 43.67142\n",
      "        }\n",
      "    }\n",
      "}\n"
     ]
    }
   ],
   "source": [
    "print(json.dumps(data,indent = 4))"
   ]
  },
  {
   "cell_type": "code",
   "execution_count": 37,
   "id": "026f9572",
   "metadata": {},
   "outputs": [
    {
     "data": {
      "text/html": [
       "<div>\n",
       "<style scoped>\n",
       "    .dataframe tbody tr th:only-of-type {\n",
       "        vertical-align: middle;\n",
       "    }\n",
       "\n",
       "    .dataframe tbody tr th {\n",
       "        vertical-align: top;\n",
       "    }\n",
       "\n",
       "    .dataframe thead th {\n",
       "        text-align: right;\n",
       "    }\n",
       "</style>\n",
       "<table border=\"1\" class=\"dataframe\">\n",
       "  <thead>\n",
       "    <tr style=\"text-align: right;\">\n",
       "      <th></th>\n",
       "      <th>lat</th>\n",
       "      <th>lon</th>\n",
       "      <th>fs_parks</th>\n",
       "      <th>yelp_parks</th>\n",
       "    </tr>\n",
       "  </thead>\n",
       "  <tbody>\n",
       "    <tr>\n",
       "      <th>0</th>\n",
       "      <td>43.665269</td>\n",
       "      <td>-79.319796</td>\n",
       "      <td>29</td>\n",
       "      <td>10</td>\n",
       "    </tr>\n",
       "    <tr>\n",
       "      <th>1</th>\n",
       "      <td>43.671420</td>\n",
       "      <td>-79.445947</td>\n",
       "      <td>28</td>\n",
       "      <td>3</td>\n",
       "    </tr>\n",
       "  </tbody>\n",
       "</table>\n",
       "</div>"
      ],
      "text/plain": [
       "         lat        lon  fs_parks  yelp_parks\n",
       "0  43.665269 -79.319796        29          10\n",
       "1  43.671420 -79.445947        28           3"
      ]
     },
     "execution_count": 37,
     "metadata": {},
     "output_type": "execute_result"
    }
   ],
   "source": [
    "# Merge Foursquare and Yelp venue data\n",
    "venue_df = foursquare_parks_df.merge(yelp_parks_df, on=['lat','lon'])\n",
    "venue_df"
   ]
  },
  {
   "cell_type": "markdown",
   "id": "4c96ffa6",
   "metadata": {},
   "source": [
    "## Part 3: Joining Data"
   ]
  },
  {
   "cell_type": "code",
   "execution_count": 31,
   "id": "46cc0348",
   "metadata": {},
   "outputs": [
    {
     "ename": "NameError",
     "evalue": "name 'venue_df' is not defined",
     "output_type": "error",
     "traceback": [
      "\u001b[1;31m---------------------------------------------------------------------------\u001b[0m",
      "\u001b[1;31mNameError\u001b[0m                                 Traceback (most recent call last)",
      "Cell \u001b[1;32mIn[31], line 2\u001b[0m\n\u001b[0;32m      1\u001b[0m \u001b[38;5;66;03m# Merge with bikes station data\u001b[39;00m\n\u001b[1;32m----> 2\u001b[0m merged_df \u001b[38;5;241m=\u001b[39m bikes_df\u001b[38;5;241m.\u001b[39mmerge(venue_df, on\u001b[38;5;241m=\u001b[39m[\u001b[38;5;124m'\u001b[39m\u001b[38;5;124mlat\u001b[39m\u001b[38;5;124m'\u001b[39m,\u001b[38;5;124m'\u001b[39m\u001b[38;5;124mlon\u001b[39m\u001b[38;5;124m'\u001b[39m])\n\u001b[0;32m      3\u001b[0m merged_df\n",
      "\u001b[1;31mNameError\u001b[0m: name 'venue_df' is not defined"
     ]
    }
   ],
   "source": [
    "# Merge with bikes station data\n",
    "merged_df = bikes_df.merge(venue_df, on=['lat','lon'])\n",
    "merged_df"
   ]
  },
  {
   "cell_type": "code",
   "execution_count": null,
   "id": "02c28847",
   "metadata": {},
   "outputs": [],
   "source": [
    "import pandas as pd\n",
    "import matplotlib.pyplot as plt\n",
    "\n",
    "# Assuming you have bikes_df, yelp_results_df, and foursquare_results_df\n",
    "\n",
    "# Merge data from CityBikes API and Yelp API based on common location information\n",
    "merged_df = pd.merge(city_bikes_df, yelp_results_df, on=['latitude', 'longitude'], how='left')\n",
    "\n",
    "# Merge data from Foursquare API into the merged dataframe based on common location information\n",
    "merged_df = pd.merge(merged_df, foursquare_results_df, on=['latitude', 'longitude'], how='left')\n",
    "\n",
    "# Data visualization\n",
    "# Let's say you want to compare the number of bikes available with the number of venues from Yelp and Foursquare\n",
    "plt.figure(figsize=(10, 6))\n",
    "plt.scatter(merged_df['num_bikes'], merged_df['yelp_venue_count'], label='Yelp Venues', color='blue')\n",
    "plt.scatter(merged_df['num_bikes'], merged_df['foursquare_venue_count'], label='Foursquare Venues', color='green')\n",
    "plt.xlabel('Number of Bikes')\n",
    "plt.ylabel('Number of Venues')\n",
    "plt.title('Comparison of Bikes and Venues')\n",
    "plt.legend()\n",
    "plt.show()\n"
   ]
  },
  {
   "cell_type": "code",
   "execution_count": null,
   "id": "fc00fc5d",
   "metadata": {},
   "outputs": [],
   "source": []
  },
  {
   "cell_type": "code",
   "execution_count": null,
   "id": "53df1b37",
   "metadata": {},
   "outputs": [],
   "source": []
  },
  {
   "cell_type": "markdown",
   "id": "959be321",
   "metadata": {},
   "source": [
    "# 1. Joining Data"
   ]
  },
  {
   "cell_type": "code",
   "execution_count": 18,
   "id": "8b0dd944",
   "metadata": {},
   "outputs": [
    {
     "name": "stdout",
     "output_type": "stream",
     "text": [
      "                                 id        lat        lon  bikes  fs_venue  \\\n",
      "0  fb337bbed72e2be090071e199899b2be  43.665269 -79.319796      4        29   \n",
      "1  4ff88d5880e71aa40d34cfe5d09b0ca7  43.671420 -79.445947     11        28   \n",
      "\n",
      "   yelp_park_venue_x  venue_count  yelp_park_venue_y  \n",
      "0                 10           29                 10  \n",
      "1                  3           28                  3  \n"
     ]
    }
   ],
   "source": []
  },
  {
   "cell_type": "code",
   "execution_count": 45,
   "id": "d8ec3108",
   "metadata": {
    "scrolled": true
   },
   "outputs": [
    {
     "name": "stdout",
     "output_type": "stream",
     "text": [
      "id                 0\n",
      "lat                0\n",
      "lon                0\n",
      "bikes              0\n",
      "venue_count        0\n",
      "yelp_park_venue    0\n",
      "dtype: int64\n"
     ]
    }
   ],
   "source": [
    "print(merged_df.isnull().sum())"
   ]
  },
  {
   "cell_type": "code",
   "execution_count": 46,
   "id": "013fdc20",
   "metadata": {
    "scrolled": false
   },
   "outputs": [
    {
     "name": "stdout",
     "output_type": "stream",
     "text": [
      "Index(['id', 'lat', 'lon', 'bikes', 'venue_count', 'yelp_park_venue'], dtype='object')\n"
     ]
    }
   ],
   "source": [
    "print(merged_df.columns)"
   ]
  },
  {
   "cell_type": "code",
   "execution_count": 48,
   "id": "7f05bc9d",
   "metadata": {},
   "outputs": [
    {
     "name": "stdout",
     "output_type": "stream",
     "text": [
      "id                  object\n",
      "lat                float64\n",
      "lon                float64\n",
      "bikes                int64\n",
      "venue_count          int64\n",
      "yelp_park_venue      int64\n",
      "dtype: object\n"
     ]
    }
   ],
   "source": [
    "print(merged_df.dtypes)"
   ]
  },
  {
   "cell_type": "code",
   "execution_count": 15,
   "id": "4b69df56",
   "metadata": {},
   "outputs": [
    {
     "name": "stdout",
     "output_type": "stream",
     "text": [
      "                                 id        lat        lon  bikes  fs_venue  \\\n",
      "0  fb337bbed72e2be090071e199899b2be  43.665269 -79.319796      4        29   \n",
      "1  4ff88d5880e71aa40d34cfe5d09b0ca7  43.671420 -79.445947     11        28   \n",
      "\n",
      "   yelp_park_venue_x  venue_count  yelp_park_venue_y  \n",
      "0                 10           29                 10  \n",
      "1                  3           28                  3  \n"
     ]
    },
    {
     "name": "stderr",
     "output_type": "stream",
     "text": [
      "C:\\Users\\User\\AppData\\Local\\Temp\\ipykernel_15624\\246030075.py:1: FutureWarning: In a future version of pandas all arguments of DataFrame.any and Series.any will be keyword-only.\n",
      "  incorrect_rows = merged_df[merged_df.applymap(type).ne(merged_df.dtypes).any(1)]\n"
     ]
    }
   ],
   "source": [
    "incorrect_rows = merged_df[merged_df.applymap(type).ne(merged_df.dtypes).any(1)]\n",
    "print(incorrect_rows)"
   ]
  },
  {
   "cell_type": "markdown",
   "id": "f2777d0f",
   "metadata": {},
   "source": [
    "# 2. Data Visualization"
   ]
  },
  {
   "cell_type": "code",
   "execution_count": 22,
   "id": "598dbb52",
   "metadata": {},
   "outputs": [
    {
     "ename": "ValueError",
     "evalue": "Could not interpret input 'yelp_park_venue'",
     "output_type": "error",
     "traceback": [
      "\u001b[1;31m---------------------------------------------------------------------------\u001b[0m",
      "\u001b[1;31mValueError\u001b[0m                                Traceback (most recent call last)",
      "Cell \u001b[1;32mIn[22], line 7\u001b[0m\n\u001b[0;32m      5\u001b[0m \u001b[38;5;66;03m# Bar plot of Foursquare vs Yelp venue counts\u001b[39;00m\n\u001b[0;32m      6\u001b[0m sns\u001b[38;5;241m.\u001b[39mbarplot(x\u001b[38;5;241m=\u001b[39m\u001b[38;5;124m'\u001b[39m\u001b[38;5;124mlat\u001b[39m\u001b[38;5;124m'\u001b[39m, y\u001b[38;5;241m=\u001b[39m\u001b[38;5;124m'\u001b[39m\u001b[38;5;124mvenue_count\u001b[39m\u001b[38;5;124m'\u001b[39m, data\u001b[38;5;241m=\u001b[39mmerged_df, label\u001b[38;5;241m=\u001b[39m\u001b[38;5;124m'\u001b[39m\u001b[38;5;124mFoursquare\u001b[39m\u001b[38;5;124m'\u001b[39m) \n\u001b[1;32m----> 7\u001b[0m sns\u001b[38;5;241m.\u001b[39mbarplot(x\u001b[38;5;241m=\u001b[39m\u001b[38;5;124m'\u001b[39m\u001b[38;5;124mlat\u001b[39m\u001b[38;5;124m'\u001b[39m, y\u001b[38;5;241m=\u001b[39m\u001b[38;5;124m'\u001b[39m\u001b[38;5;124myelp_park_venue\u001b[39m\u001b[38;5;124m'\u001b[39m, data\u001b[38;5;241m=\u001b[39mmerged_df, label\u001b[38;5;241m=\u001b[39m\u001b[38;5;124m'\u001b[39m\u001b[38;5;124mYelp\u001b[39m\u001b[38;5;124m'\u001b[39m)\n\u001b[0;32m      9\u001b[0m plt\u001b[38;5;241m.\u001b[39mxlabel(\u001b[38;5;124m'\u001b[39m\u001b[38;5;124mStation\u001b[39m\u001b[38;5;124m'\u001b[39m)\n\u001b[0;32m     10\u001b[0m plt\u001b[38;5;241m.\u001b[39mylabel(\u001b[38;5;124m'\u001b[39m\u001b[38;5;124mVenue Count\u001b[39m\u001b[38;5;124m'\u001b[39m)\n",
      "File \u001b[1;32m~\\anaconda3\\Lib\\site-packages\\seaborn\\categorical.py:2755\u001b[0m, in \u001b[0;36mbarplot\u001b[1;34m(data, x, y, hue, order, hue_order, estimator, errorbar, n_boot, units, seed, orient, color, palette, saturation, width, errcolor, errwidth, capsize, dodge, ci, ax, **kwargs)\u001b[0m\n\u001b[0;32m   2752\u001b[0m \u001b[38;5;28;01mif\u001b[39;00m estimator \u001b[38;5;129;01mis\u001b[39;00m \u001b[38;5;28mlen\u001b[39m:\n\u001b[0;32m   2753\u001b[0m     estimator \u001b[38;5;241m=\u001b[39m \u001b[38;5;124m\"\u001b[39m\u001b[38;5;124msize\u001b[39m\u001b[38;5;124m\"\u001b[39m\n\u001b[1;32m-> 2755\u001b[0m plotter \u001b[38;5;241m=\u001b[39m _BarPlotter(x, y, hue, data, order, hue_order,\n\u001b[0;32m   2756\u001b[0m                       estimator, errorbar, n_boot, units, seed,\n\u001b[0;32m   2757\u001b[0m                       orient, color, palette, saturation,\n\u001b[0;32m   2758\u001b[0m                       width, errcolor, errwidth, capsize, dodge)\n\u001b[0;32m   2760\u001b[0m \u001b[38;5;28;01mif\u001b[39;00m ax \u001b[38;5;129;01mis\u001b[39;00m \u001b[38;5;28;01mNone\u001b[39;00m:\n\u001b[0;32m   2761\u001b[0m     ax \u001b[38;5;241m=\u001b[39m plt\u001b[38;5;241m.\u001b[39mgca()\n",
      "File \u001b[1;32m~\\anaconda3\\Lib\\site-packages\\seaborn\\categorical.py:1530\u001b[0m, in \u001b[0;36m_BarPlotter.__init__\u001b[1;34m(self, x, y, hue, data, order, hue_order, estimator, errorbar, n_boot, units, seed, orient, color, palette, saturation, width, errcolor, errwidth, capsize, dodge)\u001b[0m\n\u001b[0;32m   1525\u001b[0m \u001b[38;5;28;01mdef\u001b[39;00m \u001b[38;5;21m__init__\u001b[39m(\u001b[38;5;28mself\u001b[39m, x, y, hue, data, order, hue_order,\n\u001b[0;32m   1526\u001b[0m              estimator, errorbar, n_boot, units, seed,\n\u001b[0;32m   1527\u001b[0m              orient, color, palette, saturation, width,\n\u001b[0;32m   1528\u001b[0m              errcolor, errwidth, capsize, dodge):\n\u001b[0;32m   1529\u001b[0m \u001b[38;5;250m    \u001b[39m\u001b[38;5;124;03m\"\"\"Initialize the plotter.\"\"\"\u001b[39;00m\n\u001b[1;32m-> 1530\u001b[0m     \u001b[38;5;28mself\u001b[39m\u001b[38;5;241m.\u001b[39mestablish_variables(x, y, hue, data, orient,\n\u001b[0;32m   1531\u001b[0m                              order, hue_order, units)\n\u001b[0;32m   1532\u001b[0m     \u001b[38;5;28mself\u001b[39m\u001b[38;5;241m.\u001b[39mestablish_colors(color, palette, saturation)\n\u001b[0;32m   1533\u001b[0m     \u001b[38;5;28mself\u001b[39m\u001b[38;5;241m.\u001b[39mestimate_statistic(estimator, errorbar, n_boot, seed)\n",
      "File \u001b[1;32m~\\anaconda3\\Lib\\site-packages\\seaborn\\categorical.py:541\u001b[0m, in \u001b[0;36m_CategoricalPlotter.establish_variables\u001b[1;34m(self, x, y, hue, data, orient, order, hue_order, units)\u001b[0m\n\u001b[0;32m    539\u001b[0m     \u001b[38;5;28;01mif\u001b[39;00m \u001b[38;5;28misinstance\u001b[39m(var, \u001b[38;5;28mstr\u001b[39m):\n\u001b[0;32m    540\u001b[0m         err \u001b[38;5;241m=\u001b[39m \u001b[38;5;124mf\u001b[39m\u001b[38;5;124m\"\u001b[39m\u001b[38;5;124mCould not interpret input \u001b[39m\u001b[38;5;124m'\u001b[39m\u001b[38;5;132;01m{\u001b[39;00mvar\u001b[38;5;132;01m}\u001b[39;00m\u001b[38;5;124m'\u001b[39m\u001b[38;5;124m\"\u001b[39m\n\u001b[1;32m--> 541\u001b[0m         \u001b[38;5;28;01mraise\u001b[39;00m \u001b[38;5;167;01mValueError\u001b[39;00m(err)\n\u001b[0;32m    543\u001b[0m \u001b[38;5;66;03m# Figure out the plotting orientation\u001b[39;00m\n\u001b[0;32m    544\u001b[0m orient \u001b[38;5;241m=\u001b[39m infer_orient(\n\u001b[0;32m    545\u001b[0m     x, y, orient, require_numeric\u001b[38;5;241m=\u001b[39m\u001b[38;5;28mself\u001b[39m\u001b[38;5;241m.\u001b[39mrequire_numeric\n\u001b[0;32m    546\u001b[0m )\n",
      "\u001b[1;31mValueError\u001b[0m: Could not interpret input 'yelp_park_venue'"
     ]
    },
    {
     "data": {
      "image/png": "[encoded data removed]",
      "text/plain": [
       "<Figure size 640x480 with 1 Axes>"
      ]
     },
     "metadata": {},
     "output_type": "display_data"
    }
   ],
   "source": [
    "# Import matplotlib and seaborn\n",
    "import matplotlib.pyplot as plt\n",
    "import seaborn as sns\n",
    "\n",
    "# Bar plot of Foursquare vs Yelp venue counts\n",
    "sns.barplot(x='lat', y='venue_count', data=merged_df, label='Foursquare') \n",
    "sns.barplot(x='lat', y='yelp_park_venue', data=merged_df, label='Yelp')\n",
    "\n",
    "plt.xlabel('Station')\n",
    "plt.ylabel('Venue Count')\n",
    "plt.title('Venue Count Comparison')\n",
    "plt.legend()\n",
    "plt.show()\n",
    "\n",
    "# Scatter plot of venue count vs number of bikes\n",
    "sns.scatterplot(x='bikes', y='venue_count', data=merged_df)\n",
    "\n",
    "plt.xlabel('Available Bikes') \n",
    "plt.ylabel('Venue Count')\n",
    "plt.title('Venues vs Available Bikes')\n",
    "plt.show()\n",
    "\n",
    "# Map of stations sized by Foursquare venue count\n",
    "merged_df.plot.scatter(x='lon', y='lat', s=merged_df['venue_count'], colormap='Blues')\n",
    "\n",
    "plt.title('Stations by Foursquare Venues')\n",
    "plt.show()"
   ]
  },
  {
   "cell_type": "markdown",
   "id": "a744dabf",
   "metadata": {},
   "source": [
    "# 3. Creating an SQLite Database"
   ]
  },
  {
   "cell_type": "code",
   "execution_count": 1,
   "id": "3fd7dee2",
   "metadata": {},
   "outputs": [
    {
     "ename": "NameError",
     "evalue": "name 'merged_df' is not defined",
     "output_type": "error",
     "traceback": [
      "\u001b[1;31m---------------------------------------------------------------------------\u001b[0m",
      "\u001b[1;31mNameError\u001b[0m                                 Traceback (most recent call last)",
      "Cell \u001b[1;32mIn[1], line 21\u001b[0m\n\u001b[0;32m      9\u001b[0m cursor\u001b[38;5;241m.\u001b[39mexecute(\u001b[38;5;124m'''\u001b[39m\n\u001b[0;32m     10\u001b[0m \u001b[38;5;124m    CREATE TABLE IF NOT EXISTS bike_stations (\u001b[39m\n\u001b[0;32m     11\u001b[0m \u001b[38;5;124m        id TEXT PRIMARY KEY,\u001b[39m\n\u001b[1;32m   (...)\u001b[0m\n\u001b[0;32m     17\u001b[0m \u001b[38;5;124m    )\u001b[39m\n\u001b[0;32m     18\u001b[0m \u001b[38;5;124m'''\u001b[39m)\n\u001b[0;32m     20\u001b[0m \u001b[38;5;66;03m# Insert data into the bike_stations table\u001b[39;00m\n\u001b[1;32m---> 21\u001b[0m \u001b[38;5;28;01mfor\u001b[39;00m index, row \u001b[38;5;129;01min\u001b[39;00m merged_df\u001b[38;5;241m.\u001b[39miterrows():\n\u001b[0;32m     22\u001b[0m     cursor\u001b[38;5;241m.\u001b[39mexecute(\u001b[38;5;124m'''\u001b[39m\n\u001b[0;32m     23\u001b[0m \u001b[38;5;124m        INSERT INTO bike_stations (id, lat, lon, bikes, venue_count, yelp_park_venue)\u001b[39m\n\u001b[0;32m     24\u001b[0m \u001b[38;5;124m        VALUES (?, ?, ?, ?, ?, ?)\u001b[39m\n\u001b[0;32m     25\u001b[0m \u001b[38;5;124m    \u001b[39m\u001b[38;5;124m'''\u001b[39m, (row[\u001b[38;5;124m'\u001b[39m\u001b[38;5;124mid\u001b[39m\u001b[38;5;124m'\u001b[39m], row[\u001b[38;5;124m'\u001b[39m\u001b[38;5;124mlat\u001b[39m\u001b[38;5;124m'\u001b[39m], row[\u001b[38;5;124m'\u001b[39m\u001b[38;5;124mlon\u001b[39m\u001b[38;5;124m'\u001b[39m], row[\u001b[38;5;124m'\u001b[39m\u001b[38;5;124mbikes\u001b[39m\u001b[38;5;124m'\u001b[39m], row[\u001b[38;5;124m'\u001b[39m\u001b[38;5;124mvenue_count\u001b[39m\u001b[38;5;124m'\u001b[39m], row[\u001b[38;5;124m'\u001b[39m\u001b[38;5;124myelp_park_venue\u001b[39m\u001b[38;5;124m'\u001b[39m]))\n\u001b[0;32m     27\u001b[0m \u001b[38;5;66;03m# Commit changes and close the connection\u001b[39;00m\n",
      "\u001b[1;31mNameError\u001b[0m: name 'merged_df' is not defined"
     ]
    }
   ],
   "source": [
    "import sqlite3\n",
    "from sqlite3 import Error\n",
    "\n",
    "# Connect to the SQLite database (or create if not exists)\n",
    "conn = sqlite3.connect('bike_station_data.db')\n",
    "cursor = conn.cursor()\n",
    "\n",
    "# Create a table for bike stations\n",
    "cursor.execute('''\n",
    "    CREATE TABLE IF NOT EXISTS bike_stations (\n",
    "        id TEXT PRIMARY KEY,\n",
    "        lat FLOAT,\n",
    "        lon FLOAT,\n",
    "        bikes INTEGER,\n",
    "        venue_count INTEGER,\n",
    "        yelp_park_venue INTEGER\n",
    "    )\n",
    "''')\n",
    "\n",
    "# Insert data into the bike_stations table\n",
    "for index, row in merged_df.iterrows():\n",
    "    cursor.execute('''\n",
    "        INSERT INTO bike_stations (id, lat, lon, bikes, venue_count, yelp_park_venue)\n",
    "        VALUES (?, ?, ?, ?, ?, ?)\n",
    "    ''', (row['id'], row['lat'], row['lon'], row['bikes'], row['venue_count'], row['yelp_park_venue']))\n",
    "\n",
    "# Commit changes and close the connection\n",
    "conn.commit()\n",
    "conn.close()\n"
   ]
  },
  {
   "cell_type": "code",
   "execution_count": null,
   "id": "6e54b45d",
   "metadata": {},
   "outputs": [],
   "source": []
  }
 ],
 "metadata": {
  "kernelspec": {
   "display_name": "Python 3 (ipykernel)",
   "language": "python",
   "name": "python3"
  },
  "language_info": {
   "codemirror_mode": {
    "name": "ipython",
    "version": 3
   },
   "file_extension": ".py",
   "mimetype": "text/x-python",
   "name": "python",
   "nbconvert_exporter": "python",
   "pygments_lexer": "ipython3",
   "version": "3.11.4"
  }
 },
 "nbformat": 4,
 "nbformat_minor": 5
}
